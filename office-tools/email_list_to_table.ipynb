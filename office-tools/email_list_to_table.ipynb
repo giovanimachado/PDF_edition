{
  "nbformat": 4,
  "nbformat_minor": 0,
  "metadata": {
    "colab": {
      "name": "email_list-to-table.ipynb",
      "provenance": [],
      "collapsed_sections": [],
      "authorship_tag": "ABX9TyOP/JQGuWV7gLV8IlED0ReH",
      "include_colab_link": true
    },
    "kernelspec": {
      "name": "python3",
      "display_name": "Python 3"
    }
  },
  "cells": [
    {
      "cell_type": "markdown",
      "metadata": {
        "id": "view-in-github",
        "colab_type": "text"
      },
      "source": [
        "<a href=\"https://colab.research.google.com/github/giovanimachado/python-daily-tools/blob/master/office-tools/email_list_to_table.ipynb\" target=\"_parent\"><img src=\"https://colab.research.google.com/assets/colab-badge.svg\" alt=\"Open In Colab\"/></a>"
      ]
    },
    {
      "cell_type": "markdown",
      "metadata": {
        "id": "tnWTV7QiISX0",
        "colab_type": "text"
      },
      "source": [
        "This notebook is used to convert a string containing emails in to a table."
      ]
    },
    {
      "cell_type": "code",
      "metadata": {
        "id": "pvgPkwEyKZ-z",
        "colab_type": "code",
        "colab": {}
      },
      "source": [
        "emails = \"Giovani 1 <giovani1@gmail.com>; Giovani 2 <giovani2@gmail.com>; Giovani 3 <giovani3@gmail.com>\""
      ],
      "execution_count": null,
      "outputs": []
    },
    {
      "cell_type": "code",
      "metadata": {
        "id": "qdEMmZOQJoK9",
        "colab_type": "code",
        "colab": {}
      },
      "source": [
        "def string_to_table(string):\n",
        "  \"\"\" Return a Dataframe containing Name, Email and Company\n",
        "\n",
        "      Input:\n",
        "        String containing a list of names and emails separated by ; \n",
        "        eg.: Giovani <giovani.machado@company.org.br>; Giovani <giovani.machado@company.com.br>; ...\n",
        "  \"\"\"\n",
        "  import pandas as pd\n",
        "  emails = string\n",
        "  emails = emails.replace(\" <\", \":\").replace(\">\",\"\")\n",
        "\n",
        "  # Split Name and Email\n",
        "  d = {}\n",
        "  invalid = []\n",
        "  for pair in emails.split('; '):\n",
        "    try:\n",
        "      name, email = pair.split(':')\n",
        "      d[name] = email\n",
        "     \n",
        "    except ValueError:\n",
        "      invalid.append(pair)\n",
        "      d[pair] = pair\n",
        "      pass\n",
        "  #print(d)\n",
        "  #print(invalid)\n",
        "\n",
        "  # Create dataframe based on the Dict\n",
        "  table = pd.DataFrame(d.items(), columns=['Name', 'Email'])\n",
        "  \n",
        "  #Split column Email in @\n",
        "  new = table.Email.str.split('@', n = 1, expand = True);\n",
        "\n",
        "  #Split column 1 in the first .\n",
        "  new = new[1].str.split('.', n = 1, expand = True);\n",
        "\n",
        "  # Create column Company\n",
        "  table[\"Company\"] = new[0];\n",
        "  \n",
        "  return table"
      ],
      "execution_count": null,
      "outputs": []
    },
    {
      "cell_type": "code",
      "metadata": {
        "id": "XWNoaLB18zVJ",
        "colab_type": "code",
        "colab": {
          "base_uri": "https://localhost:8080/",
          "height": 143
        },
        "outputId": "298a1ac3-c461-4380-b5d8-339e05251081"
      },
      "source": [
        "table = string_to_table(emails)\n",
        "table"
      ],
      "execution_count": null,
      "outputs": [
        {
          "output_type": "execute_result",
          "data": {
            "text/html": [
              "<div>\n",
              "<style scoped>\n",
              "    .dataframe tbody tr th:only-of-type {\n",
              "        vertical-align: middle;\n",
              "    }\n",
              "\n",
              "    .dataframe tbody tr th {\n",
              "        vertical-align: top;\n",
              "    }\n",
              "\n",
              "    .dataframe thead th {\n",
              "        text-align: right;\n",
              "    }\n",
              "</style>\n",
              "<table border=\"1\" class=\"dataframe\">\n",
              "  <thead>\n",
              "    <tr style=\"text-align: right;\">\n",
              "      <th></th>\n",
              "      <th>Name</th>\n",
              "      <th>Email</th>\n",
              "      <th>Company</th>\n",
              "    </tr>\n",
              "  </thead>\n",
              "  <tbody>\n",
              "    <tr>\n",
              "      <th>0</th>\n",
              "      <td>Giovani 1</td>\n",
              "      <td>giovani1@gmail.com</td>\n",
              "      <td>gmail</td>\n",
              "    </tr>\n",
              "    <tr>\n",
              "      <th>1</th>\n",
              "      <td>Giovani 2</td>\n",
              "      <td>giovani2@gmail.com</td>\n",
              "      <td>gmail</td>\n",
              "    </tr>\n",
              "    <tr>\n",
              "      <th>2</th>\n",
              "      <td>Giovani 3</td>\n",
              "      <td>giovani3@gmail.com</td>\n",
              "      <td>gmail</td>\n",
              "    </tr>\n",
              "  </tbody>\n",
              "</table>\n",
              "</div>"
            ],
            "text/plain": [
              "        Name               Email Company\n",
              "0  Giovani 1  giovani1@gmail.com   gmail\n",
              "1  Giovani 2  giovani2@gmail.com   gmail\n",
              "2  Giovani 3  giovani3@gmail.com   gmail"
            ]
          },
          "metadata": {
            "tags": []
          },
          "execution_count": 90
        }
      ]
    },
    {
      "cell_type": "code",
      "metadata": {
        "id": "q232s82VMAAM",
        "colab_type": "code",
        "colab": {}
      },
      "source": [
        ""
      ],
      "execution_count": null,
      "outputs": []
    }
  ]
}